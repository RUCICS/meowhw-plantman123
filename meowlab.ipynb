{
 "cells": [
  {
   "cell_type": "markdown",
   "id": "c6175159",
   "metadata": {},
   "source": [
    "# MeowLab\n",
    "\n",
    "> cat可能是你最常用的命令行工具之一，但是可能很少有人会关注cat的性能问题。\n",
    "> \n",
    "> 但实际上，cat可能比你想的更加高效。在这个lab中，我们会一起来探索cat如此高效的秘密。"
   ]
  },
  {
   "cell_type": "markdown",
   "id": "ef876965",
   "metadata": {},
   "source": [
    "## 什么是cat\n",
    "\n",
    "对于大部分同学来说，这个问题有些太trivial了。但是以防万一，还是在这里介绍一下，cat是一个GNU coreutils中的一个程序，它的作用是连接(con**cat**enate)一系列文件，并将其输出到标准输出流(stdout)中。\n",
    "\n",
    "> 如果你愿意去找，你会发现这个lab中所有的代码都可以在GNU coreutils中找到，或者你用某个大模型，它可能也能写得不错。\n",
    "> 但是，除了写代码以外，这个lab中也会包含一些分析和讨论。因此即使你选择直接去抄GNU coreutils中的代码，也不要直接不加思考的复制粘贴。"
   ]
  },
  {
   "cell_type": "markdown",
   "id": "be33179e",
   "metadata": {},
   "source": [
    "## 环境要求\n",
    "\n",
    "* 操作系统：Linux（任何包含GNU coreutils的发行版）\n",
    "* 编译器：本lab允许使用C/C++或者Rust，选择你喜欢的任何编译器即可。\n",
    "* Python3.x：本lab一些地方需要你画图，推荐你使用matplotlib。另外，我们使用一个简单的脚本来生成测试文件。"
   ]
  },
  {
   "cell_type": "markdown",
   "id": "c6d3e510",
   "metadata": {},
   "source": [
    "## 在开始之前\n",
    "\n",
    "这个项目的所有代码需要你自己动手来写，我们只提供了一个用于生成测试文件的脚本。\n",
    "\n",
    "为了展示比较明显的测试效果，我们会生成一个2GB的测试文件，请确保你的磁盘拥有足够的空间。你可以运行下面这个单元格来查看你的电脑是否有足够的空间。这里我们使用了`df`命令，这个命令的作用是查看某个文件系统所在的磁盘的使用量。"
   ]
  },
  {
   "cell_type": "code",
   "execution_count": 2,
   "id": "14021422",
   "metadata": {},
   "outputs": [
    {
     "name": "stdout",
     "output_type": "stream",
     "text": [
      "Filesystem      Size  Used Avail Use% Mounted on\n",
      "/dev/sdc       1007G   14G  943G   2% /\n",
      "Disk space is sufficient: 943G\n"
     ]
    }
   ],
   "source": [
    "%%bash\n",
    "df -h /\n",
    "\n",
    "avail=$(df -h / | awk 'NR==2 {print $4}' | grep -o '[0-9.]*')\n",
    "unit=$(df -h / | awk 'NR==2 {print $4}' | grep -o '[a-zA-Z]*')\n",
    "if [[ \"$unit\" == \"M\" || \"$unit\" == \"K\" ]]; then\n",
    "    echo \"Disk space is low: $avail$unit\"\n",
    "elif [[ \"$unit\" == \"T\" ]]; then\n",
    "    echo \"Disk space is sufficient: $avail$unit\"\n",
    "elif [[ \"$unit\" == \"G\" ]]; then\n",
    "    if (( $(echo \"$avail < 10\" | bc -l) )); then\n",
    "        echo \"Disk space is low: $avail$unit\"\n",
    "    else\n",
    "        echo \"Disk space is sufficient: $avail$unit\"\n",
    "    fi\n",
    "else\n",
    "    echo \"Unknown unit: $unit\"\n",
    "fi\n"
   ]
  },
  {
   "cell_type": "markdown",
   "id": "64cc6804",
   "metadata": {},
   "source": [
    "你可以使用我们提供的python脚本来生成测试文件，运行下面的单元格。测试文件的生成可能会花费一定的时间。"
   ]
  },
  {
   "cell_type": "code",
   "execution_count": 3,
   "id": "8ead0359",
   "metadata": {},
   "outputs": [],
   "source": [
    "import random\n",
    "\n",
    "MB = 1024 * 1024\n",
    "\n",
    "# A static seed for reproducibility\n",
    "random.seed(42)\n",
    "\n",
    "with open(\"test.txt\", \"wb\") as f:\n",
    "    for _ in range(2048):\n",
    "        f.write(random.randbytes(1 * MB)) # 1MB of random data"
   ]
  },
  {
   "cell_type": "markdown",
   "id": "a0017028",
   "metadata": {},
   "source": [
    "当前文件夹下面会出现一个大小为2GB的文件`test.txt`。你可以运行下面的单元格来验证。"
   ]
  },
  {
   "cell_type": "code",
   "execution_count": 4,
   "id": "a4bd4bd0",
   "metadata": {},
   "outputs": [
    {
     "name": "stdout",
     "output_type": "stream",
     "text": [
      "-rw-r--r-- 1 hzk hzk 2.0G Jun 14 14:45 test.txt\n"
     ]
    }
   ],
   "source": [
    "%%bash\n",
    "ls -lh test.txt"
   ]
  },
  {
   "cell_type": "markdown",
   "id": "55fbac6a",
   "metadata": {},
   "source": [
    "最后，我们的lab会需要使用`hyperfine`来测量程序的运行时间。我们推荐你使用`cargo`进行安装。你可以从[Rust官网](https://www.rust-lang.org/zh-CN/learn/get-started)找到安装脚本。如果你的电脑已经安装好了`cargo`，你可以运行下面的单元格来安装`hyperfine`。"
   ]
  },
  {
   "cell_type": "code",
   "execution_count": 5,
   "id": "77f0165a",
   "metadata": {},
   "outputs": [
    {
     "name": "stderr",
     "output_type": "stream",
     "text": [
      "\u001b[1m\u001b[32m    Updating\u001b[0m crates.io index\n",
      "\u001b[1m\u001b[32m     Ignored\u001b[0m package `hyperfine v1.19.0` is already installed, use --force to override\n"
     ]
    }
   ],
   "source": [
    "%%bash\n",
    "source ~/.cargo/env\n",
    "export PATH=\"$HOME/.cargo/bin:$PATH\"\n",
    "\n",
    "cargo install hyperfine"
   ]
  },
  {
   "cell_type": "code",
   "execution_count": 6,
   "id": "4af9a82b",
   "metadata": {},
   "outputs": [
    {
     "name": "stdout",
     "output_type": "stream",
     "text": [
      "Benchmark 1: cat test.txt\n",
      "  Time (mean ± σ):     287.4 ms ±  14.8 ms    [User: 8.3 ms, System: 248.2 ms]\n",
      "  Range (min … max):   275.8 ms … 323.3 ms    10 runs\n",
      " \n"
     ]
    },
    {
     "name": "stderr",
     "output_type": "stream",
     "text": [
      " \n",
      "  Warning: The first benchmarking run for this command was significantly slower than the rest (323.3 ms). This could be caused by (filesystem) caches that were not filled until after the first run. You are already using the '--warmup' option which helps to fill these caches before the actual benchmark. You can either try to increase the warmup count further or re-run this benchmark on a quiet system in case it was a random outlier. Alternatively, consider using the '--prepare' option to clear the caches before each timing run.\n"
     ]
    }
   ],
   "source": [
    "%%bash\n",
    "# 设置PATH以确保能找到hyperfine\n",
    "source ~/.cargo/env\n",
    "export PATH=\"$HOME/.cargo/bin:$PATH\"\n",
    "\n",
    "hyperfine --warmup 3 'cat test.txt'"
   ]
  },
  {
   "cell_type": "markdown",
   "id": "cd94fe5a",
   "metadata": {},
   "source": [
    "## 任务1: 写一个最朴素的cat\n",
    "\n",
    "我们现在使用`hyperfine`测量了GNU coreutils中的`cat`的运行效率，但是对于这个运行时间，我们可能并没有什么概念。现在我们将会写一个最朴素的`cat`程序来作为baseline。这个程序需要满足一下要求：\n",
    "1. 把你的源代码命名为`mycat1.c`或者`mycat1.rs`，并且可执行的二进制文件命名为`mycat1`。\n",
    "2. 你的程序接受且只接受一个命令行参数，这个参数是你要读取的文件。\n",
    "3. 你的程序直接使用`read`和`write`系统调用，每次读取并输出一个字符，不使用任何缓冲区。\n",
    "4. 使用`hpyerfine`测量`mycat1`和`cat`运行时间（`mycat1`的运行时间可能会非常长）\n",
    "5. 虽然这是一个很简单的程序，但是请仍然保持系统编程的规范。请在你的代码中进行进行所有必要的错误处理。\n",
    "\n",
    "这个任务不需要在文档中包含任何内容。"
   ]
  },
  {
   "cell_type": "code",
   "execution_count": null,
   "id": "124223b9",
   "metadata": {},
   "outputs": [
    {
     "name": "stdout",
     "output_type": "stream",
     "text": [
      "Benchmark 1: ./target/mycat1 test.txt\n"
     ]
    }
   ],
   "source": [
    "%%bash\n",
    "# Task1运行时间过长\n",
    "source ~/.cargo/env\n",
    "export PATH=\"$HOME/.cargo/bin:$PATH\"\n",
    "\n",
    "hyperfine --warmup 3 --runs 1 './target/mycat1 test.txt'"
   ]
  },
  {
   "cell_type": "markdown",
   "id": "7105038c",
   "metadata": {},
   "source": [
    "## 任务2: 带有缓冲区的cat\n",
    "\n",
    "如果你正确完成了上面的任务，你会发现，`mycat1`的性能和系统中的`cat`的性能相差甚远。但是经过了ics课程的学习，你肯定已经想到了至少一个解决方案——使用缓冲区。缓冲区可以有效减少反复进行系统调用的性能消耗。但是，我们要面临的第二个问题是：缓冲区的大小应该如何设置呢？我们接下来将一步一步地探索这个问题。\n",
    "\n",
    "我们之前肯定也已经讲过不少涉及IO缓冲区的程序了，它们的缓冲区大小都被设置为多少呢？我相信1024, 4096, 8192一定是比较常见的几个数字。经过ics的学习，我相信你们肯定能说出原因了。那么，这个任务，我们将根据这个原理优化我们的`mycat1`。你至少需要完成下面要求：\n",
    "1. 复制你上一个任务的源代码在上面做修改，并把源代码命名为`mycat2.c`/`mycat2.rs`，可执行二进制文件命名为`mycat2`。\n",
    "2. 写一个`io_blocksize`函数用于确定你的缓冲区的大小，在这个任务中，你可以将缓冲区设置成你当前系统中一个内存页的大小。（注意：你不能假设所有系统中内存页的大小都是4K，请你使用一个系统调用或者标准库中的函数来获取内存页的大小，而不要使用一个固定值。不过允许你使用一个固定值，如果获取内存页发生错误，但是这不应该是一个常见的情况）。\n",
    "3. 使用标准库提供的函数动态分配用于缓冲区的内存。\n",
    "4. 使用`hpyerfine`测量`mycat2`的运行时间\n",
    "5. 请保持系统编程的基本规范。\n",
    "\n",
    "这个任务不需要在文档中包含任何内容。"
   ]
  },
  {
   "cell_type": "code",
   "execution_count": null,
   "id": "ac23d60f",
   "metadata": {},
   "outputs": [
    {
     "name": "stdout",
     "output_type": "stream",
     "text": [
      "Benchmark 1: ./target/mycat2 test.txt\n",
      "  Time (mean ± σ):      1.018 s ±  0.027 s    [User: 0.164 s, System: 0.773 s]\n",
      "  Range (min … max):    0.990 s …  1.060 s    10 runs\n",
      " \n"
     ]
    }
   ],
   "source": [
    "%%bash\n",
    "source ~/.cargo/env\n",
    "export PATH=\"$HOME/.cargo/bin:$PATH\"\n",
    "\n",
    "hyperfine --warmup 3 './target/mycat2 test.txt'"
   ]
  },
  {
   "cell_type": "markdown",
   "id": "c5630499",
   "metadata": {},
   "source": [
    "## 任务3: 缓冲区对齐的cat\n",
    "\n",
    "如果你正确完成了上面这个任务，你会发现，添加了缓冲区的`mycat2`性能提升十分显著。但是我们还可以进一步优化。实际上只是添加了缓冲区并且设置缓冲区的大小为内存页的整数倍并不是没有什么太多的意义，这样的设置只是为了这个一个任务做铺垫的。在这个任务中，我们将尝试将我们的缓冲区对齐到系统的内存页。至于为什么要这么做，请大家在自己的文档中分析一下。你至少需要完成以下要求：\n",
    "1. 复制你上一个任务的源代码在上面做修改，并把源代码命名为`mycat3.c`/`mycat3.rs`，可执行二进制文件命名为`mycat3`。\n",
    "2. 写两个函数`char* align_alloc(size_t size)`和`void align_free(void* ptr)`，它们的作用分别是分配一段内存，长度不小于`size`并且返回一个对齐到内存页起始的指针`ptr`，以及给出一个先前从`align_alloc`返回的指针并释放之前分配的内存。\n",
    "3. 利用这两个函数修改你的代码，缓冲区的大小仍然设置成一个内存页的大小。\n",
    "4. 使用`hpyerfine`测量`mycat3`的运行时间\n",
    "5. 请保持系统编程的基本规范。\n",
    "\n",
    "这个任务，你需要在文档中回答以下问题：\n",
    "1. 为什么将缓冲区对齐到系统的内存可能提高性能？你的实验结果支持这个猜想吗？为什么？\n",
    "2. 为什么我们直接使用`malloc`函数分配的内存不能对齐到内存页，即使我们分配的内存大小已经是内存页大小的整数倍了。\n",
    "3. 你是怎么在不知道原始的malloc返回的指针的情况下正确释放内存的？"
   ]
  },
  {
   "cell_type": "code",
   "execution_count": null,
   "id": "cc9a08fd",
   "metadata": {},
   "outputs": [
    {
     "name": "stdout",
     "output_type": "stream",
     "text": [
      "Benchmark 1: ./target/mycat3 test.txt\n",
      "  Time (mean ± σ):      1.013 s ±  0.020 s    [User: 0.162 s, System: 0.769 s]\n",
      "  Range (min … max):    0.994 s …  1.059 s    10 runs\n",
      " \n"
     ]
    }
   ],
   "source": [
    "%%bash\n",
    "source ~/.cargo/env\n",
    "export PATH=\"$HOME/.cargo/bin:$PATH\"\n",
    "\n",
    "hyperfine --warmup 3 './target/mycat3 test.txt'"
   ]
  },
  {
   "cell_type": "markdown",
   "id": "45070667",
   "metadata": {},
   "source": [
    "## 任务4: 设置缓冲区大小为文件系统块大小的整数倍的cat\n",
    "\n",
    "由于`cat`是涉及文件操作的，所以我们自然不能离开磁盘操作。我们在课内已经学到过，磁盘操作的基本单位是块。并且因为我们操作磁盘是经过了操作系统的一层抽象的，操作系统的文件系统也定义了一个操作文件的基本单位块，这个块的大小和磁盘的块的大小相关，但不总是相同。因此我们操作文件的时候实际接触到的块大小是文件系统的块大小。如果我们每次读取和写入文件的时候都按照文件系统的块大小来进行，也能提升性能。在这个任务中，你至少需要完成以下要求：\n",
    "1. 复制你上一个任务的源代码在上面做修改，并把源代码命名为`mycat4.c`/`mycat4.rs`，可执行二进制文件命名为`mycat4`。\n",
    "2. 修改你的函数`io_blocksize`，让你的缓冲区大小既考虑到内存页大小也考虑到文件系统的块大小。\n",
    "3. 使用`hyperfine`测量`mycat4`的运行时间。\n",
    "4. 保持系统编程的基本规范。\n",
    "\n",
    "> 在完成这项任务的时候你需要注意以下几点：\n",
    "> 1. 文件系统中的每个文件，块大小不总是相同的。\n",
    "> 2. 有的文件系统可能会给出虚假的块大小，这种虚假的文件块大小可能根本不是2的整数次幂。\n",
    "\n",
    "这个任务，你需要在文档中回答以下问题：\n",
    "1. 为什么在设置缓冲区大小的时候需要考虑到文件系统块的大小的问题？\n",
    "2. 对于上面提到的两个注意事项你是怎么解决的？"
   ]
  },
  {
   "cell_type": "code",
   "execution_count": 16,
   "id": "b1c29621",
   "metadata": {},
   "outputs": [
    {
     "name": "stdout",
     "output_type": "stream",
     "text": [
      "Benchmark 1: ./target/mycat4 test.txt\n",
      "  Time (mean ± σ):     308.5 ms ±   4.2 ms    [User: 11.1 ms, System: 270.5 ms]\n",
      "  Range (min … max):   303.9 ms … 315.7 ms    10 runs\n",
      " \n"
     ]
    }
   ],
   "source": [
    "%%bash\n",
    "# 设置PATH以确保能找到hyperfine\n",
    "source ~/.cargo/env\n",
    "export PATH=\"$HOME/.cargo/bin:$PATH\"\n",
    "\n",
    "hyperfine --warmup 3 './target/mycat4 test.txt'"
   ]
  },
  {
   "cell_type": "markdown",
   "id": "442bbd60",
   "metadata": {},
   "source": [
    "## 任务5: 考虑系统调用开销情况下的cat\n",
    "\n",
    "如果你正确完成了上面的任务，那么现在你的`cat`已经可以综合考虑内存页大小，内存页对齐和文件系统块大小的因素来设置缓冲区大小了。但是我们会发现，我们自己的`cat`性能仍然不如我们系统中的`cat`。并且如果你尝试过再进一步增大缓冲区的大小，你的`cat`性能还能更高。这是因为我们目前设置的缓冲区大小还不足以掩盖系统调用带来的开销。那么，我们的缓冲区究竟应该设置到什么大小才够呢？其实这个问题，我们仅仅使用理论分析是无法给出答案的，因为答案受到机器的硬件条件，操作系统的涉及等多重不确定因素的影响。但是，我们可以使用实验来解答这个问题。最后，我们还需要做出假设，不考虑上一个任务的注意事项1，也就是我们假设我们文件系统的大部分文件的块大小都一致（你可以使用我们的测试文件的块大小）。因此，设我们在之前的任务中设置的缓冲区大小是buf_size，我们需要通过实验找到一个倍数A，满足以下条件：\n",
    "1. 当缓冲区大小小于A * buf_size的时候，文件的读写速度显著减小\n",
    "2. 当缓冲区大小大于A * buf_size的时候，文件的读写速度并不显著提升\n",
    "最终，我们就可以直接设置我们的`cat`中的缓冲区大小设置成buf_size的固定倍率。在这个任务中，你只少需要完成以下要求：\n",
    "1. 编写一个实验脚本，尽量排除其他因素的影响，测量只在系统调用开销的影响下，你的系统最合适的缓冲区大小。并且给出这个大小下你的系统的读写速率。\n",
    "2. 复制你上一个任务的源代码在上面做修改，并把源代码命名为`mycat5.c`/`mycat5.rs`，可执行二进制文件命名为`mycat5`。\n",
    "3. 利用上面的实验结果，修改你的函数`io_blocksize`。\n",
    "4. 使用`hyperfine`测量`mycat5`的运行时间。\n",
    "5. 保持系统编程的基本规范。\n",
    "\n",
    "> 提示：\n",
    "> 1. `dd`命令可以用于复制一个文件(也就是读取并写入)，你可以使用命令行参数设置它的缓冲区大小，并且程序终止的时候可以报告平均文件读写速度。\n",
    "> 2. Linux系统中存在`/dev`文件系统，这个目录下有很多特殊文件，其中有一些对你来说可能有用。`/dev/null`，你向这个文件写入的内容并不真正写入磁盘，并且不会对你的系统造成任何影响。`/dev/zero`，如果你尝试读取这个文件你会得到源源不断的`\\0x0`，这个文件也并不真正的从磁盘中读取。\n",
    "\n",
    "这个任务，你需要在文档中包括以下内容：\n",
    "1. 解释一下你的实验脚本是怎么设计的。你应该尝试了多种倍率，请将它们的读写速率画成图表包含在文档中。"
   ]
  },
  {
   "cell_type": "code",
   "execution_count": null,
   "id": "9a720e79",
   "metadata": {},
   "outputs": [],
   "source": [
    "# 脚本在没有对mycat5.c进行修改的情况下，对mycat5.c进行性能分析\n",
    "# 在终端中运行./mycat5_test.sh，分别测试A=( 8 16 32 64 128 256 512 1024 2048 4096 8192)\n",
    "set -e\n",
    "TEST_FILE=\"test.txt\"\n",
    "RESULT_DIR=\"test_result\"\n",
    "WARMUP_RUNS=2\n",
    "BENCHMARK_RUNS=3\n",
    "ORIGINAL_FILE=\"target/mycat5.c\"\n",
    "BACKUP_FILE=\"test/mycat5_backup.c\"\n",
    "\n",
    "echo \"=== mycat5 Performance Analysis ===\"\n",
    "\n",
    "\n",
    "check_command() {\n",
    "    if ! command -v \"$1\" &> /dev/null; then\n",
    "        echo \"ERROR: $1 command not found\"\n",
    "        exit 1\n",
    "    fi\n",
    "}\n",
    "\n",
    "check_command \"gcc\"\n",
    "\n",
    "# Check if bc is available for calculations\n",
    "if ! command -v bc &> /dev/null; then\n",
    "    USE_BC=false\n",
    "else\n",
    "    USE_BC=true\n",
    "fi\n",
    "\n",
    "# Create result and test directories\n",
    "mkdir -p \"$RESULT_DIR\" \"test\"\n",
    "\n",
    "\n",
    "cp \"$ORIGINAL_FILE\" \"$BACKUP_FILE\"\n",
    "\n",
    "if [ ! -f \"$TEST_FILE\" ]; then\n",
    "    echo \"ERROR: Test file $TEST_FILE not found!\"\n",
    "    echo \"Please make sure test.txt exists in the current directory.\"\n",
    "    exit 1\n",
    "else\n",
    "    continue\n",
    "fi\n",
    "\n",
    "\n",
    "create_mycat5_variant() {\n",
    "    local multiplier=$1\n",
    "    local output_file=\"test/mycat5_A${multiplier}.c\"\n",
    "    \n",
    "    # Copy original file\n",
    "    cp \"$BACKUP_FILE\" \"$output_file\"\n",
    "    \n",
    "    # Replace the return statement in io_blocksize function\n",
    "    if [[ \"$multiplier\" == *\".\"* ]]; then\n",
    "        # Handle decimal multipliers\n",
    "        # Convert 0.5 to division by 2, 1.5 to *3/2, etc.\n",
    "        if [ \"$multiplier\" = \"0.5\" ]; then\n",
    "            sed -i 's/return muti \\* block_size;/return (muti * block_size) \\/ 2;/' \"$output_file\"\n",
    "        elif [ \"$multiplier\" = \"1.5\" ]; then\n",
    "            sed -i 's/return muti \\* block_size;/return (muti * block_size * 3) \\/ 2;/' \"$output_file\"\n",
    "        else\n",
    "            # For other decimals, convert to integer math\n",
    "            integer_mult=$(echo \"$multiplier * 1000\" | bc -l | cut -d. -f1)\n",
    "            sed -i \"s/return muti \\* block_size;/return (muti * block_size * $integer_mult) \\/ 1000;/\" \"$output_file\"\n",
    "        fi\n",
    "    else\n",
    "        # Handle integer multipliers\n",
    "        sed -i \"s/return muti \\* block_size;/return muti * block_size * $multiplier;/\" \"$output_file\"\n",
    "    fi\n",
    "    \n",
    "    echo \"$output_file\"\n",
    "}\n",
    "\n",
    "\n",
    "compile_mycat5() {\n",
    "    local source_file=$1\n",
    "    local executable_file=$2\n",
    "    \n",
    "    gcc -O2 -o \"$executable_file\" \"$source_file\" -Wall 2>/dev/null\n",
    "    return $?\n",
    "}\n",
    "\n",
    "benchmark_mycat5_simple() {\n",
    "    local executable=$1\n",
    "    local multiplier=$2\n",
    "    \n",
    "    if [ ! -f \"$executable\" ]; then\n",
    "        echo \"999.999\"\n",
    "        return 1\n",
    "    fi\n",
    "    \n",
    "    # Use time command directly - more reliable\n",
    "    local best_time=\"999.999\"\n",
    "    \n",
    "    for i in {1..3}; do\n",
    "        # First check if executable works\n",
    "        if ! \"$executable\" \"$TEST_FILE\" > /dev/null 2>&1; then\n",
    "            continue\n",
    "        fi\n",
    "        \n",
    "        # Use time command to measure execution\n",
    "        local time_output\n",
    "        time_output=$({ time \"$executable\" \"$TEST_FILE\" > /dev/null; } 2>&1 | grep real | awk '{print $2}' | sed 's/[^0-9.]//g')\n",
    "        \n",
    "        # If time command failed, try alternative method\n",
    "        if [[ ! $time_output =~ ^[0-9]+\\.?[0-9]*$ ]]; then\n",
    "            # Fallback to date method\n",
    "            local start_time=$(date +%s.%N)\n",
    "            if \"$executable\" \"$TEST_FILE\" > /dev/null 2>&1; then\n",
    "                local end_time=$(date +%s.%N)\n",
    "                if [ \"$USE_BC\" = true ]; then\n",
    "                    time_output=$(echo \"$end_time - $start_time\" | bc -l 2>/dev/null)\n",
    "                else\n",
    "                    time_output=$(awk \"BEGIN {printf \\\"%.6f\\\", $end_time - $start_time}\" 2>/dev/null)\n",
    "                fi\n",
    "            fi\n",
    "        fi\n",
    "        \n",
    "        # Validate and compare time\n",
    "        if [[ $time_output =~ ^[0-9]+\\.?[0-9]*$ ]]; then\n",
    "            if [ \"$USE_BC\" = true ]; then\n",
    "                if (( $(echo \"$time_output > 0 && $time_output < $best_time\" | bc -l 2>/dev/null || echo \"0\") )); then\n",
    "                    best_time=$time_output\n",
    "                fi\n",
    "            else\n",
    "                if awk \"BEGIN {exit !($time_output > 0 && $time_output < $best_time)}\"; then\n",
    "                    best_time=$time_output\n",
    "                fi\n",
    "            fi\n",
    "        fi\n",
    "    done\n",
    "    \n",
    "    echo \"$best_time\"\n",
    "}\n",
    "\n",
    "# Test\n",
    "A_VALUES=( 8 16 32 64 128 256 512 1024 2048 4096 8192)\n",
    "\n",
    "\n",
    "declare -A results\n",
    "best_A=1\n",
    "best_time=\"1000\"\n",
    "echo \"A    | Multiplier | Avg Time(s)\"\n",
    "echo \"-----|------------|-----------\"\n",
    "\n",
    "for A in \"${A_VALUES[@]}\"; do\n",
    "    # Create variant\n",
    "    source_file=$(create_mycat5_variant \"$A\")\n",
    "    executable_file=\"test/mycat5_A${A}\"\n",
    "    \n",
    "    # Compile\n",
    "    if compile_mycat5 \"$source_file\" \"$executable_file\"; then\n",
    "        # Performance test\n",
    "        time_result=$(benchmark_mycat5_simple \"$executable_file\" \"$A\")\n",
    "        results[\"$A\"]=\"$time_result\"\n",
    "        \n",
    "        # Check if this is the best result using awk\n",
    "        if awk \"BEGIN {exit !($time_result < $best_time)}\"; then\n",
    "            best_time=\"$time_result\"\n",
    "            best_A=\"$A\"\n",
    "        fi\n",
    "        \n",
    "        printf \"%-4s | %-10s | %s\\n\" \"$A\" \"${A}x\" \"${time_result}\"\n",
    "    else\n",
    "        echo \"$A   | ${A}x        | COMPILE_FAILED\"\n",
    "        results[\"$A\"]=\"FAILED\"\n",
    "    fi\n",
    "done\n",
    "\n",
    "echo \"-----|------------|-----------\"\n",
    "echo \"Best A value: $best_A\"\n",
    "echo \"Best time: $best_time\"\n"
   ]
  },
  {
   "cell_type": "code",
   "execution_count": 1,
   "id": "fefb5fdb",
   "metadata": {},
   "outputs": [
    {
     "name": "stdout",
     "output_type": "stream",
     "text": [
      "Benchmark 1: ./target/mycat5 test.txt\n",
      "  Time (mean ± σ):     234.2 ms ±   4.6 ms    [User: 1.9 ms, System: 209.7 ms]\n",
      "  Range (min … max):   230.8 ms … 247.5 ms    12 runs\n",
      " \n"
     ]
    }
   ],
   "source": [
    "%%bash\n",
    "# 这个mycat5是优化后的版本，使用hyperfine测试性能\n",
    "source ~/.cargo/env\n",
    "export PATH=\"$HOME/.cargo/bin:$PATH\"\n",
    "\n",
    "hyperfine --warmup 3 './target/mycat5 test.txt'"
   ]
  },
  {
   "cell_type": "markdown",
   "id": "54bef4af",
   "metadata": {},
   "source": [
    "## 任务6: 使用了系统调用`fdadvice`的cat\n",
    "\n",
    "虽然几乎我们的这个lab都在讨论设置缓冲区大小的问题，但是实际上我们的系统中的`cat`还在其他很多方面做了不少优化。这些优化在多数时候和缓冲区相比都不起决定性作用，但是我们也可以从中学习到不少有趣的技巧。这里我们就只尝试其中一个，使用系统调用`fadvise`。这个系统调用可以提示文件系统我们将会以什么样的模式来读写文件，这样操作系统可以设置合适的readahead窗口为文件的读写做准备。在这个任务中，你需要完成以下要求：\n",
    "1. 复制你上一个任务的源代码在上面做修改，并把源代码命名为`mycat6.c`/`mycat6.rs`，可执行二进制文件命名为`mycat6`。\n",
    "2. 在你的代码中使用`fadvise`进行优化。\n",
    "3. 使用`hyperfine`测量`mycat6`的运行时间。\n",
    "4. 保持系统编程的基本规范。\n",
    "\n",
    "这个任务，你需要在文档中回答以下问题：\n",
    "1. 你是如何设置`fadvise`的参数的？\n",
    "2. 对于顺序读写的情况，文件系统可以如何调整readahead？对于随机读写的情况呢？"
   ]
  },
  {
   "cell_type": "code",
   "execution_count": 7,
   "id": "3aad1e29",
   "metadata": {},
   "outputs": [
    {
     "name": "stdout",
     "output_type": "stream",
     "text": [
      "Benchmark 1: ./target/mycat6 test.txt\n",
      "  Time (mean ± σ):     229.3 ms ±   3.0 ms    [User: 1.8 ms, System: 205.0 ms]\n",
      "  Range (min … max):   226.6 ms … 238.4 ms    12 runs\n",
      " \n"
     ]
    },
    {
     "name": "stderr",
     "output_type": "stream",
     "text": [
      " \n",
      "  Warning: The first benchmarking run for this command was significantly slower than the rest (238.4 ms). This could be caused by (filesystem) caches that were not filled until after the first run. You are already using the '--warmup' option which helps to fill these caches before the actual benchmark. You can either try to increase the warmup count further or re-run this benchmark on a quiet system in case it was a random outlier. Alternatively, consider using the '--prepare' option to clear the caches before each timing run.\n"
     ]
    }
   ],
   "source": [
    "%%bash\n",
    "source ~/.cargo/env\n",
    "export PATH=\"$HOME/.cargo/bin:$PATH\"\n",
    "\n",
    "hyperfine --warmup 3 './target/mycat6 test.txt'"
   ]
  },
  {
   "cell_type": "markdown",
   "id": "2c605486",
   "metadata": {},
   "source": [
    "## 任务7: 总结\n",
    "\n",
    "经过了上面的所有任务，我们已经成功探索我们系统中最常用的工具`cat`所使用的各种优化。我相信你对涉及系统IO的编程也有了更深刻的理解。现在请你整理汇总上面每个任务你所写的`mycatx`以及系统的`cat`的测量数据，使用一个柱状图来展示。并且请你分析一下你得到的结果：它们符合你的预期吗？为什么？这个结果给你带来了什么启示？\n",
    "\n",
    "这个任务，你需要在文档中包含以下内容：\n",
    "1. 你的全部实验结果的柱状图。\n",
    "2. 你对上述实验结果的分析。"
   ]
  },
  {
   "cell_type": "code",
   "execution_count": 3,
   "id": "4e293a45",
   "metadata": {},
   "outputs": [
    {
     "data": {
      "image/png": "[encoded data removed]",
      "text/plain": [
       "<Figure size 1200x800 with 1 Axes>"
      ]
     },
     "metadata": {},
     "output_type": "display_data"
    }
   ],
   "source": [
    "import matplotlib.pyplot as plt\n",
    "import numpy as np\n",
    "\n",
    "programs = ['mycat2', 'mycat3', 'mycat4', 'mycat5', 'mycat6', 'system cat']\n",
    "times_ms = [1018.0, 1013.0, 308.5, 234.2, 229.3, 282.4]  # 假设system cat的时间为1500.0毫秒\n",
    "\n",
    "plt.figure(figsize=(12, 8))\n",
    "bars = plt.bar(programs, times_ms, color=['blue', 'orange', 'green', 'brown', 'black', 'red'])\n",
    "\n",
    "for bar, time in zip(bars, times_ms):\n",
    "    height = bar.get_height()\n",
    "    plt.text(bar.get_x() + bar.get_width()/2., height + 5,\n",
    "             f'{time:.1f}ms', ha='center', va='bottom', fontsize=10, fontweight='bold')\n",
    "\n",
    "plt.title('Cat Analysis', fontsize=16, fontweight='bold', pad=20)\n",
    "plt.xlabel('version', fontsize=12, fontweight='bold')\n",
    "plt.ylabel('avg running time(ms)', fontsize=12, fontweight='bold')\n",
    "plt.grid(axis='y', alpha=0.3, linestyle='--')\n",
    "\n",
    "plt.tight_layout()\n",
    "plt.show()\n",
    "\n"
   ]
  }
 ],
 "metadata": {
  "kernelspec": {
   "display_name": "Python 3",
   "language": "python",
   "name": "python3"
  },
  "language_info": {
   "codemirror_mode": {
    "name": "ipython",
    "version": 3
   },
   "file_extension": ".py",
   "mimetype": "text/x-python",
   "name": "python",
   "nbconvert_exporter": "python",
   "pygments_lexer": "ipython3",
   "version": "3.10.12"
  }
 },
 "nbformat": 4,
 "nbformat_minor": 5
}
